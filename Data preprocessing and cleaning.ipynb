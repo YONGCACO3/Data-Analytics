{
 "cells": [
  {
   "cell_type": "code",
   "execution_count": 64,
   "metadata": {},
   "outputs": [],
   "source": [
    "import pandas as pd \n",
    "import numpy as np \n",
    "import json \n",
    "import matplotlib.pyplot as plt\n",
    "import seaborn as sns\n",
    "from ast import literal_eval\n",
    "import warnings\n",
    "import itertools\n",
    "from sklearn.feature_extraction.text import CountVectorizer\n",
    "from sklearn.decomposition import LatentDirichletAllocation\n",
    "from collections import Counter\n"
   ]
  },
  {
   "cell_type": "code",
   "execution_count": 65,
   "metadata": {},
   "outputs": [],
   "source": [
    "# Ignore DeprecationWarning and FutureWarning messages\n",
    "warnings.filterwarnings('ignore', category=DeprecationWarning)\n",
    "warnings.filterwarnings('ignore', category=FutureWarning)\n",
    "#Set the maximum number of columns & rows to be displayed \n",
    "pd.set_option('display.max_columns', 5)\n",
    "pd.set_option('display.max_colwidth', 20)"
   ]
  },
  {
   "cell_type": "markdown",
   "metadata": {},
   "source": [
    "Ignoring DeprecationWarning and FutureWarning messages should be done with caution and only in specific situations where you have a good reason to do so.\n",
    "\n",
    "Generally, it is not recommended to ignore warning messages by default, as they often provide important information about potential issues in your code or upcoming changes in Python or its libraries. "
   ]
  },
  {
   "cell_type": "markdown",
   "metadata": {},
   "source": [
    "# 1. Data Preprocessing and Cleaning\n",
    "## 1-1 Data Import and Initial Exploration"
   ]
  },
  {
   "cell_type": "code",
   "execution_count": 66,
   "metadata": {},
   "outputs": [],
   "source": [
    "# import the dataset\n",
    "df = pd.read_csv('resume_with_job_description.csv')"
   ]
  },
  {
   "cell_type": "code",
   "execution_count": 67,
   "metadata": {},
   "outputs": [
    {
     "data": {
      "text/html": [
       "<div>\n",
       "<style scoped>\n",
       "    .dataframe tbody tr th:only-of-type {\n",
       "        vertical-align: middle;\n",
       "    }\n",
       "\n",
       "    .dataframe tbody tr th {\n",
       "        vertical-align: top;\n",
       "    }\n",
       "\n",
       "    .dataframe thead th {\n",
       "        text-align: right;\n",
       "    }\n",
       "</style>\n",
       "<table border=\"1\" class=\"dataframe\">\n",
       "  <thead>\n",
       "    <tr style=\"text-align: right;\">\n",
       "      <th></th>\n",
       "      <th>id</th>\n",
       "      <th>content</th>\n",
       "      <th>jobDescription</th>\n",
       "    </tr>\n",
       "  </thead>\n",
       "  <tbody>\n",
       "    <tr>\n",
       "      <th>0</th>\n",
       "      <td>clg43d9an007gx02...</td>\n",
       "      <td>{\"awards\": {\"awa...</td>\n",
       "      <td>Job Posting:\\nDo...</td>\n",
       "    </tr>\n",
       "    <tr>\n",
       "      <th>1</th>\n",
       "      <td>clg3itetj006jx92...</td>\n",
       "      <td>{\"awards\": {\"awa...</td>\n",
       "      <td>Tasks:\\n\\nCreati...</td>\n",
       "    </tr>\n",
       "    <tr>\n",
       "      <th>2</th>\n",
       "      <td>clg3iy1sd007rx32...</td>\n",
       "      <td>{\"awards\": {\"awa...</td>\n",
       "      <td>Responsibilities...</td>\n",
       "    </tr>\n",
       "    <tr>\n",
       "      <th>3</th>\n",
       "      <td>clg5j15lz00k3x02...</td>\n",
       "      <td>{\"awards\": {\"awa...</td>\n",
       "      <td>What is Talentpo...</td>\n",
       "    </tr>\n",
       "    <tr>\n",
       "      <th>4</th>\n",
       "      <td>clg43pte600ddya2...</td>\n",
       "      <td>{\"awards\": {\"awa...</td>\n",
       "      <td>Hyperproof is hi...</td>\n",
       "    </tr>\n",
       "  </tbody>\n",
       "</table>\n",
       "</div>"
      ],
      "text/plain": [
       "                    id              content       jobDescription\n",
       "0  clg43d9an007gx02...  {\"awards\": {\"awa...  Job Posting:\\nDo...\n",
       "1  clg3itetj006jx92...  {\"awards\": {\"awa...  Tasks:\\n\\nCreati...\n",
       "2  clg3iy1sd007rx32...  {\"awards\": {\"awa...  Responsibilities...\n",
       "3  clg5j15lz00k3x02...  {\"awards\": {\"awa...  What is Talentpo...\n",
       "4  clg43pte600ddya2...  {\"awards\": {\"awa...  Hyperproof is hi..."
      ]
     },
     "execution_count": 67,
     "metadata": {},
     "output_type": "execute_result"
    }
   ],
   "source": [
    "df.head()"
   ]
  },
  {
   "cell_type": "code",
   "execution_count": 68,
   "metadata": {},
   "outputs": [
    {
     "name": "stdout",
     "output_type": "stream",
     "text": [
      "Number of unique IDs in DF: 11976\n"
     ]
    }
   ],
   "source": [
    "print(\"Number of unique IDs in DF:\", df['id'].nunique())"
   ]
  },
  {
   "cell_type": "markdown",
   "metadata": {},
   "source": [
    "This dataset contains nested JSON objects, with the aim of preparing the data for customer profile\n",
    "analysis. Our efforts resulted in one readable and analyzable datasets, and we obtained\n",
    "preliminary findings that lay a solid foundation for future analysis."
   ]
  },
  {
   "cell_type": "markdown",
   "metadata": {},
   "source": [
    "## 1-2 Data preprocessing: JSON Flattening\n",
    "### 1-2-1 Step1: Flattening First-layer Objects"
   ]
  },
  {
   "cell_type": "code",
   "execution_count": 69,
   "metadata": {},
   "outputs": [],
   "source": [
    "# Convert JSON-fomated 'content' strings to Python dictionary objects\n",
    "df['content'] = df['content'].apply(json.loads)"
   ]
  },
  {
   "cell_type": "code",
   "execution_count": 70,
   "metadata": {},
   "outputs": [],
   "source": [
    "# Flatten the first-layer Json object into a dataframe\n",
    "d1 = pd.json_normalize(df['content'], sep='_', # nested keys joined by _\n",
    "                        errors='ignore' # in case some JSON objects have missing or inconsistent data.\n",
    "                        )"
   ]
  },
  {
   "cell_type": "code",
   "execution_count": 71,
   "metadata": {},
   "outputs": [
    {
     "data": {
      "text/html": [
       "<div>\n",
       "<style scoped>\n",
       "    .dataframe tbody tr th:only-of-type {\n",
       "        vertical-align: middle;\n",
       "    }\n",
       "\n",
       "    .dataframe tbody tr th {\n",
       "        vertical-align: top;\n",
       "    }\n",
       "\n",
       "    .dataframe thead th {\n",
       "        text-align: right;\n",
       "    }\n",
       "</style>\n",
       "<table border=\"1\" class=\"dataframe\">\n",
       "  <thead>\n",
       "    <tr style=\"text-align: right;\">\n",
       "      <th></th>\n",
       "      <th>keywords</th>\n",
       "      <th>suggestedSkills</th>\n",
       "      <th>...</th>\n",
       "      <th>accomplishments_visible</th>\n",
       "      <th>accomplishments_diffedText</th>\n",
       "    </tr>\n",
       "  </thead>\n",
       "  <tbody>\n",
       "    <tr>\n",
       "      <th>0</th>\n",
       "      <td>[admissions repr...</td>\n",
       "      <td>[Compliance, Cli...</td>\n",
       "      <td>...</td>\n",
       "      <td>True</td>\n",
       "      <td></td>\n",
       "    </tr>\n",
       "    <tr>\n",
       "      <th>1</th>\n",
       "      <td>[dashboard inter...</td>\n",
       "      <td>[Analysis, Colle...</td>\n",
       "      <td>...</td>\n",
       "      <td>True</td>\n",
       "      <td></td>\n",
       "    </tr>\n",
       "    <tr>\n",
       "      <th>2</th>\n",
       "      <td>[product,  desig...</td>\n",
       "      <td>[Vue, DevOps, De...</td>\n",
       "      <td>...</td>\n",
       "      <td>True</td>\n",
       "      <td></td>\n",
       "    </tr>\n",
       "    <tr>\n",
       "      <th>3</th>\n",
       "      <td>[flexibility,  i...</td>\n",
       "      <td>[]</td>\n",
       "      <td>...</td>\n",
       "      <td>True</td>\n",
       "      <td></td>\n",
       "    </tr>\n",
       "    <tr>\n",
       "      <th>4</th>\n",
       "      <td>[product roadmap...</td>\n",
       "      <td>[Curiosity]</td>\n",
       "      <td>...</td>\n",
       "      <td>True</td>\n",
       "      <td></td>\n",
       "    </tr>\n",
       "  </tbody>\n",
       "</table>\n",
       "<p>5 rows × 21 columns</p>\n",
       "</div>"
      ],
      "text/plain": [
       "              keywords      suggestedSkills  ... accomplishments_visible  \\\n",
       "0  [admissions repr...  [Compliance, Cli...  ...                 True      \n",
       "1  [dashboard inter...  [Analysis, Colle...  ...                 True      \n",
       "2  [product,  desig...  [Vue, DevOps, De...  ...                 True      \n",
       "3  [flexibility,  i...                   []  ...                 True      \n",
       "4  [product roadmap...          [Curiosity]  ...                 True      \n",
       "\n",
       "  accomplishments_diffedText  \n",
       "0                             \n",
       "1                             \n",
       "2                             \n",
       "3                             \n",
       "4                             \n",
       "\n",
       "[5 rows x 21 columns]"
      ]
     },
     "execution_count": 71,
     "metadata": {},
     "output_type": "execute_result"
    }
   ],
   "source": [
    "d1.head()"
   ]
  },
  {
   "cell_type": "markdown",
   "metadata": {},
   "source": [
    "After flattening, we've got **columns containing strings** and **columns containing lists of nested objects(\"[]\")**. "
   ]
  },
  {
   "cell_type": "code",
   "execution_count": 72,
   "metadata": {},
   "outputs": [],
   "source": [
    "# Rename the columns for easier reference\n",
    "d1.rename(columns={'awards_awards':'awards','header_contact_city': 'city', 'header_contact_state': 'state', 'skills_skills': 'skills',\n",
    "                              'header_contact_country':'country','projects_projects':'project','volunteer_volunteer':'volunteer','experience_experience':'experience',\n",
    "                              'references_references':'references','publications_publications':'publications','certifications_certifications':'certifications',\n",
    "                              'education_education':'education'}, inplace=True)\n",
    "# Drop the 'header_role' column as it doesn't contain any value.\n",
    "d1.drop(['header_role'], axis=1, inplace=True)"
   ]
  },
  {
   "cell_type": "code",
   "execution_count": 73,
   "metadata": {},
   "outputs": [
    {
     "data": {
      "text/html": [
       "<div>\n",
       "<style scoped>\n",
       "    .dataframe tbody tr th:only-of-type {\n",
       "        vertical-align: middle;\n",
       "    }\n",
       "\n",
       "    .dataframe tbody tr th {\n",
       "        vertical-align: top;\n",
       "    }\n",
       "\n",
       "    .dataframe thead th {\n",
       "        text-align: right;\n",
       "    }\n",
       "</style>\n",
       "<table border=\"1\" class=\"dataframe\">\n",
       "  <thead>\n",
       "    <tr style=\"text-align: right;\">\n",
       "      <th></th>\n",
       "      <th>keywords</th>\n",
       "      <th>suggestedSkills</th>\n",
       "      <th>...</th>\n",
       "      <th>accomplishments_visible</th>\n",
       "      <th>accomplishments_diffedText</th>\n",
       "    </tr>\n",
       "  </thead>\n",
       "  <tbody>\n",
       "    <tr>\n",
       "      <th>0</th>\n",
       "      <td>[admissions repr...</td>\n",
       "      <td>[Compliance, Cli...</td>\n",
       "      <td>...</td>\n",
       "      <td>True</td>\n",
       "      <td></td>\n",
       "    </tr>\n",
       "    <tr>\n",
       "      <th>1</th>\n",
       "      <td>[dashboard inter...</td>\n",
       "      <td>[Analysis, Colle...</td>\n",
       "      <td>...</td>\n",
       "      <td>True</td>\n",
       "      <td></td>\n",
       "    </tr>\n",
       "    <tr>\n",
       "      <th>2</th>\n",
       "      <td>[product,  desig...</td>\n",
       "      <td>[Vue, DevOps, De...</td>\n",
       "      <td>...</td>\n",
       "      <td>True</td>\n",
       "      <td></td>\n",
       "    </tr>\n",
       "    <tr>\n",
       "      <th>3</th>\n",
       "      <td>[flexibility,  i...</td>\n",
       "      <td>[]</td>\n",
       "      <td>...</td>\n",
       "      <td>True</td>\n",
       "      <td></td>\n",
       "    </tr>\n",
       "    <tr>\n",
       "      <th>4</th>\n",
       "      <td>[product roadmap...</td>\n",
       "      <td>[Curiosity]</td>\n",
       "      <td>...</td>\n",
       "      <td>True</td>\n",
       "      <td></td>\n",
       "    </tr>\n",
       "  </tbody>\n",
       "</table>\n",
       "<p>5 rows × 20 columns</p>\n",
       "</div>"
      ],
      "text/plain": [
       "              keywords      suggestedSkills  ... accomplishments_visible  \\\n",
       "0  [admissions repr...  [Compliance, Cli...  ...                 True      \n",
       "1  [dashboard inter...  [Analysis, Colle...  ...                 True      \n",
       "2  [product,  desig...  [Vue, DevOps, De...  ...                 True      \n",
       "3  [flexibility,  i...                   []  ...                 True      \n",
       "4  [product roadmap...          [Curiosity]  ...                 True      \n",
       "\n",
       "  accomplishments_diffedText  \n",
       "0                             \n",
       "1                             \n",
       "2                             \n",
       "3                             \n",
       "4                             \n",
       "\n",
       "[5 rows x 20 columns]"
      ]
     },
     "execution_count": 73,
     "metadata": {},
     "output_type": "execute_result"
    }
   ],
   "source": [
    "d1.head()"
   ]
  },
  {
   "cell_type": "markdown",
   "metadata": {},
   "source": [
    "- **'keywords', 'suggestedSkills'** contains lists of words and no dictionaries. Since words don't follow a pattern in categories, these two columns do not to be extracted\n",
    "- **'awards', 'skills','project','education','volunteer','experience','references','publications','certifications'** contains lists of dictionaries. \n",
    "- Within each list of dictionaries, dictionaries **have the same keys**, and the numbers of dictionaries vary"
   ]
  },
  {
   "cell_type": "code",
   "execution_count": 74,
   "metadata": {},
   "outputs": [],
   "source": [
    "# Export the flattened data to a CSV\n",
    "#d1.to_csv('resume_no_job_description_stage1.csv', index=False)"
   ]
  },
  {
   "cell_type": "markdown",
   "metadata": {},
   "source": [
    "### 1-2-2 Step 2: Parsing Lists of Dictionaries\n",
    "#### 1-2-2-1 Parsing Lists of Dictionaries (resume with no job description)"
   ]
  },
  {
   "cell_type": "markdown",
   "metadata": {},
   "source": [
    "- By checking out numbers of dictionaries under each lists in Excel, we realized there are up to 43 dictionaries in one list. In this case, **flattening all keys and items and store them in different columns is not preferred**.\n",
    "- The approach we took was to parse all items of one key and store them in the same column."
   ]
  },
  {
   "cell_type": "markdown",
   "metadata": {},
   "source": [
    "Define function parse_list() to **parse keys and items across dictionaries** in the list"
   ]
  },
  {
   "cell_type": "code",
   "execution_count": 75,
   "metadata": {},
   "outputs": [],
   "source": [
    "def parse_list(x):\n",
    "    if isinstance(x, list) and x:  # test whether list contains something\n",
    "        aggregated_keys = {}   # initialize an empty dictionary\n",
    "        for item in x:\n",
    "            if isinstance(item, dict):   # test whether item is a dictionary\n",
    "                for key, value in item.items():\n",
    "                    if key in aggregated_keys:  # if key already exists in dictionary\n",
    "                        aggregated_keys[key].append(value)  # append the new value to the existing array at that key\n",
    "                    else: # if key does not exist in dictionary\n",
    "                        aggregated_keys[key] = [value]  # add the key-value pair to the dictionary\n",
    "        return pd.Series(aggregated_keys)    # convert the dictionary to a pandas Series\n",
    "    else:\n",
    "        return pd.Series({})  # if x is not a list, return an empty Series"
   ]
  },
  {
   "cell_type": "markdown",
   "metadata": {},
   "source": [
    "Next, we  generated new columns with collection of items under the same key to and dropped the original columns by looping over columns with lists of dictionaries."
   ]
  },
  {
   "cell_type": "code",
   "execution_count": 76,
   "metadata": {},
   "outputs": [],
   "source": [
    "for col in ['awards', 'skills', 'project', 'education', 'volunteer', 'experience', 'references', 'publications', 'certifications']:   # Select Columns with lists of dictionaries\n",
    "    parsed_df = d1[col].apply(parse_list)   # apply the parse_list function to the column\n",
    "    parsed_df.columns = [f'{col}_{x}' for x in parsed_df.columns]  # rename the columns\n",
    "    d1 = pd.concat([d1, parsed_df], axis=1)  # concatenate the parsed columns to the original data frame\n",
    "    d1.drop(col, axis=1, inplace=True) # drop the original columns"
   ]
  },
  {
   "cell_type": "code",
   "execution_count": 77,
   "metadata": {},
   "outputs": [
    {
     "data": {
      "text/html": [
       "<div>\n",
       "<style scoped>\n",
       "    .dataframe tbody tr th:only-of-type {\n",
       "        vertical-align: middle;\n",
       "    }\n",
       "\n",
       "    .dataframe tbody tr th {\n",
       "        vertical-align: top;\n",
       "    }\n",
       "\n",
       "    .dataframe thead th {\n",
       "        text-align: right;\n",
       "    }\n",
       "</style>\n",
       "<table border=\"1\" class=\"dataframe\">\n",
       "  <thead>\n",
       "    <tr style=\"text-align: right;\">\n",
       "      <th></th>\n",
       "      <th>summary_text</th>\n",
       "      <th>summary_visible</th>\n",
       "      <th>...</th>\n",
       "      <th>certifications_visible</th>\n",
       "      <th>certifications_dateReceived</th>\n",
       "    </tr>\n",
       "  </thead>\n",
       "  <tbody>\n",
       "    <tr>\n",
       "      <th>0</th>\n",
       "      <td>Detailed and dri...</td>\n",
       "      <td>True</td>\n",
       "      <td>...</td>\n",
       "      <td>[True]</td>\n",
       "      <td>[November 2021]</td>\n",
       "    </tr>\n",
       "    <tr>\n",
       "      <th>1</th>\n",
       "      <td>Detailed-oriente...</td>\n",
       "      <td>True</td>\n",
       "      <td>...</td>\n",
       "      <td>[True, True, True]</td>\n",
       "      <td>[May 2022, May 2...</td>\n",
       "    </tr>\n",
       "    <tr>\n",
       "      <th>2</th>\n",
       "      <td>Agile Software E...</td>\n",
       "      <td>True</td>\n",
       "      <td>...</td>\n",
       "      <td>NaN</td>\n",
       "      <td>NaN</td>\n",
       "    </tr>\n",
       "    <tr>\n",
       "      <th>3</th>\n",
       "      <td>Innovative digit...</td>\n",
       "      <td>True</td>\n",
       "      <td>...</td>\n",
       "      <td>NaN</td>\n",
       "      <td>NaN</td>\n",
       "    </tr>\n",
       "    <tr>\n",
       "      <th>4</th>\n",
       "      <td>Passionate job s...</td>\n",
       "      <td>True</td>\n",
       "      <td>...</td>\n",
       "      <td>[True, True]</td>\n",
       "      <td>[May 2022, Janua...</td>\n",
       "    </tr>\n",
       "  </tbody>\n",
       "</table>\n",
       "<p>5 rows × 63 columns</p>\n",
       "</div>"
      ],
      "text/plain": [
       "          summary_text  summary_visible  ... certifications_visible  \\\n",
       "0  Detailed and dri...             True  ...               [True]     \n",
       "1  Detailed-oriente...             True  ...   [True, True, True]     \n",
       "2  Agile Software E...             True  ...                  NaN     \n",
       "3  Innovative digit...             True  ...                  NaN     \n",
       "4  Passionate job s...             True  ...         [True, True]     \n",
       "\n",
       "  certifications_dateReceived  \n",
       "0      [November 2021]         \n",
       "1  [May 2022, May 2...         \n",
       "2                  NaN         \n",
       "3                  NaN         \n",
       "4  [May 2022, Janua...         \n",
       "\n",
       "[5 rows x 63 columns]"
      ]
     },
     "execution_count": 77,
     "metadata": {},
     "output_type": "execute_result"
    }
   ],
   "source": [
    "#check parsed columns\n",
    "d1.filter(regex='.*_.*', axis=1).head()  # only columns with '_' in the name"
   ]
  },
  {
   "cell_type": "code",
   "execution_count": 78,
   "metadata": {},
   "outputs": [
    {
     "data": {
      "text/plain": [
       "63"
      ]
     },
     "execution_count": 78,
     "metadata": {},
     "output_type": "execute_result"
    }
   ],
   "source": [
    "d1.filter(regex='.*_.*', axis=1).shape[1]"
   ]
  },
  {
   "cell_type": "markdown",
   "metadata": {},
   "source": [
    "**63** columns were extracted from columns containing lists of dictionaries."
   ]
  },
  {
   "cell_type": "code",
   "execution_count": 79,
   "metadata": {},
   "outputs": [
    {
     "data": {
      "text/plain": [
       "Index(['keywords', 'suggestedSkills', 'city', 'state', 'country',\n",
       "       'summary_text', 'summary_visible', 'summary_diffedText',\n",
       "       'accomplishments_text', 'accomplishments_visible',\n",
       "       'accomplishments_diffedText', 'awards_name', 'awards_issuer',\n",
       "       'awards_details', 'awards_visible', 'awards_dateReceived',\n",
       "       'awards_description', 'skills_section', 'skills_visible',\n",
       "       'skills_sectionName', 'project_link', 'project_title', 'project_skills',\n",
       "       'project_endDate', 'project_visible', 'project_startDate',\n",
       "       'project_description', 'project_diffedDescription', 'education_GPA',\n",
       "       'education_minor', 'education_awards', 'education_school',\n",
       "       'education_program', 'education_visible', 'education_location',\n",
       "       'education_courseWork', 'education_graduationDate', 'volunteer_title',\n",
       "       'volunteer_endDate', 'volunteer_visible', 'volunteer_location',\n",
       "       'volunteer_startDate', 'volunteer_description',\n",
       "       'volunteer_organization', 'volunteer_diffedDescription',\n",
       "       'experience_title', 'experience_company', 'experience_endDate',\n",
       "       'experience_visible', 'experience_location', 'experience_startDate',\n",
       "       'experience_description', 'experience_diffedDescription',\n",
       "       'references_name', 'references_email', 'references_visible',\n",
       "       'references_phoneNumber', 'references_relationship',\n",
       "       'publications_date', 'publications_link', 'publications_name',\n",
       "       'publications_details', 'publications_visible',\n",
       "       'publications_publisher', 'certifications_name',\n",
       "       'certifications_issuer', 'certifications_visible',\n",
       "       'certifications_dateReceived'],\n",
       "      dtype='object')"
      ]
     },
     "execution_count": 79,
     "metadata": {},
     "output_type": "execute_result"
    }
   ],
   "source": [
    "d1.columns"
   ]
  },
  {
   "cell_type": "code",
   "execution_count": 80,
   "metadata": {},
   "outputs": [],
   "source": [
    "#Rename Columns\n",
    "d1.rename(columns={'summary_text':'summary','header_contact_city': 'city', 'header_contact_state': 'state', 'skills_skills': 'skills',\n",
    "                              'header_contact_country':'country','projects_projects':'project','volunteer_volunteer':'volunteer','experience_experience':'experience',\n",
    "                              'references_references':'references','publications_publications':'publications','certifications_certifications':'certifications',\n",
    "                              'education_education':'education'}, inplace=True)"
   ]
  },
  {
   "cell_type": "code",
   "execution_count": 81,
   "metadata": {},
   "outputs": [],
   "source": [
    "#d1.to_csv('resume_no_job_description_stage2.csv', index=False)"
   ]
  },
  {
   "cell_type": "markdown",
   "metadata": {},
   "source": [
    "## 1-3 Data Cleaning :Choose and Rename Columns of Interest"
   ]
  },
  {
   "cell_type": "markdown",
   "metadata": {},
   "source": [
    "- Drop all columns containing 'visibel' or 'diffed' in the column name beacaue these columns does not contain useful information.\n",
    "- Drop other columns of no interest."
   ]
  },
  {
   "cell_type": "code",
   "execution_count": 82,
   "metadata": {},
   "outputs": [
    {
     "data": {
      "text/plain": [
       "Index(['keywords', 'suggestedSkills', 'city', 'state', 'country', 'summary',\n",
       "       'accomplishments_text', 'awards_name', 'awards_issuer',\n",
       "       'awards_dateReceived', 'awards_description', 'skills_section',\n",
       "       'skills_sectionName', 'project_title', 'project_skills',\n",
       "       'project_endDate', 'project_startDate', 'project_description',\n",
       "       'education_GPA', 'education_minor', 'education_awards',\n",
       "       'education_school', 'education_program', 'education_location',\n",
       "       'education_courseWork', 'education_graduationDate', 'volunteer_title',\n",
       "       'volunteer_endDate', 'volunteer_location', 'volunteer_startDate',\n",
       "       'volunteer_description', 'volunteer_organization', 'experience_title',\n",
       "       'experience_company', 'experience_endDate', 'experience_location',\n",
       "       'experience_startDate', 'experience_description', 'references_name',\n",
       "       'references_relationship', 'publications_date', 'publications_name',\n",
       "       'publications_details', 'publications_publisher', 'certifications_name',\n",
       "       'certifications_issuer', 'certifications_dateReceived'],\n",
       "      dtype='object')"
      ]
     },
     "execution_count": 82,
     "metadata": {},
     "output_type": "execute_result"
    }
   ],
   "source": [
    "d2 = d1.copy()\n",
    "d2.drop(columns=[col for col in d2.columns if 'visible' in col or 'diffed' in col], inplace=True)\n",
    "d2.drop(['awards_details','references_phoneNumber','publications_link','project_link','references_email'], axis=1,inplace=True)\n",
    "d2.columns"
   ]
  },
  {
   "cell_type": "code",
   "execution_count": 83,
   "metadata": {},
   "outputs": [],
   "source": [
    "# Rename the columns for easier reference\n",
    "d2.rename(columns={'skills_section':'skills','skills_sectionName': 'skills_type'}, inplace=True)\n",
    "\n",
    "#d2. to_csv('resume_with_job_description_stage3.csv', index=False)"
   ]
  },
  {
   "cell_type": "markdown",
   "metadata": {},
   "source": [
    "## 1-4 Text Cleaning\n",
    "### 1-4-1 Converting all columns into Strings"
   ]
  },
  {
   "cell_type": "markdown",
   "metadata": {},
   "source": [
    "To work with text cleaning, all values should be strings. Hence, define a fuction to convert all non-string values to string."
   ]
  },
  {
   "cell_type": "code",
   "execution_count": 84,
   "metadata": {},
   "outputs": [],
   "source": [
    "def list_to_string(lst):\n",
    "    if isinstance(lst, list):   # if lst is a list\n",
    "        return ', '.join(lst)   # join the list elements with a comma\n",
    "    return lst                  # otherwise, return the original value"
   ]
  },
  {
   "cell_type": "markdown",
   "metadata": {},
   "source": [
    "- Turn columns containing lists to strings and replace empty strings with nan\n",
    "- Convert floats to strings"
   ]
  },
  {
   "cell_type": "code",
   "execution_count": 85,
   "metadata": {},
   "outputs": [],
   "source": [
    "d2 = d2.applymap(list_to_string)\n",
    "d2 = d2.astype(str)"
   ]
  },
  {
   "cell_type": "markdown",
   "metadata": {},
   "source": [
    "### 1-4-2 Converting values into nan"
   ]
  },
  {
   "cell_type": "markdown",
   "metadata": {},
   "source": [
    "- Convert NULL values into nan\n",
    "- Convert \",\" into NaN"
   ]
  },
  {
   "cell_type": "code",
   "execution_count": 86,
   "metadata": {},
   "outputs": [],
   "source": [
    "# Define a function to convert strings containing only commas or space to NaN\n",
    "def convert_to_nan(x):\n",
    "    if isinstance(x, str) and x.strip() in ['',',', ',,', ',,,', ',,,,', ',,,,,', ',,,,,,', ',,,,,,,', ',,,,,,,,',',,,,,,,,']:\n",
    "        return np.nan\n",
    "    else:\n",
    "        return x"
   ]
  },
  {
   "cell_type": "code",
   "execution_count": 87,
   "metadata": {},
   "outputs": [],
   "source": [
    "\n",
    "d2 = d2.applymap(convert_to_nan)"
   ]
  },
  {
   "cell_type": "code",
   "execution_count": 88,
   "metadata": {},
   "outputs": [
    {
     "data": {
      "text/html": [
       "<div>\n",
       "<style scoped>\n",
       "    .dataframe tbody tr th:only-of-type {\n",
       "        vertical-align: middle;\n",
       "    }\n",
       "\n",
       "    .dataframe tbody tr th {\n",
       "        vertical-align: top;\n",
       "    }\n",
       "\n",
       "    .dataframe thead th {\n",
       "        text-align: right;\n",
       "    }\n",
       "</style>\n",
       "<table border=\"1\" class=\"dataframe\">\n",
       "  <thead>\n",
       "    <tr style=\"text-align: right;\">\n",
       "      <th></th>\n",
       "      <th>keywords</th>\n",
       "      <th>suggestedSkills</th>\n",
       "      <th>...</th>\n",
       "      <th>certifications_issuer</th>\n",
       "      <th>certifications_dateReceived</th>\n",
       "    </tr>\n",
       "  </thead>\n",
       "  <tbody>\n",
       "    <tr>\n",
       "      <th>0</th>\n",
       "      <td>admissions repre...</td>\n",
       "      <td>Compliance, Clie...</td>\n",
       "      <td>...</td>\n",
       "      <td>California River...</td>\n",
       "      <td>November 2021</td>\n",
       "    </tr>\n",
       "    <tr>\n",
       "      <th>1</th>\n",
       "      <td>dashboard interf...</td>\n",
       "      <td>Analysis, Collec...</td>\n",
       "      <td>...</td>\n",
       "      <td>Google, Google, ...</td>\n",
       "      <td>May 2022, May 20...</td>\n",
       "    </tr>\n",
       "    <tr>\n",
       "      <th>2</th>\n",
       "      <td>product,  design...</td>\n",
       "      <td>Vue, DevOps, Del...</td>\n",
       "      <td>...</td>\n",
       "      <td>nan</td>\n",
       "      <td>nan</td>\n",
       "    </tr>\n",
       "    <tr>\n",
       "      <th>3</th>\n",
       "      <td>flexibility,  in...</td>\n",
       "      <td>NaN</td>\n",
       "      <td>...</td>\n",
       "      <td>nan</td>\n",
       "      <td>nan</td>\n",
       "    </tr>\n",
       "    <tr>\n",
       "      <th>4</th>\n",
       "      <td>product roadmaps...</td>\n",
       "      <td>Curiosity</td>\n",
       "      <td>...</td>\n",
       "      <td>Project Manageme...</td>\n",
       "      <td>May 2022, Januar...</td>\n",
       "    </tr>\n",
       "  </tbody>\n",
       "</table>\n",
       "<p>5 rows × 47 columns</p>\n",
       "</div>"
      ],
      "text/plain": [
       "              keywords      suggestedSkills  ... certifications_issuer  \\\n",
       "0  admissions repre...  Compliance, Clie...  ...  California River...    \n",
       "1  dashboard interf...  Analysis, Collec...  ...  Google, Google, ...    \n",
       "2  product,  design...  Vue, DevOps, Del...  ...                  nan    \n",
       "3  flexibility,  in...                  NaN  ...                  nan    \n",
       "4  product roadmaps...            Curiosity  ...  Project Manageme...    \n",
       "\n",
       "  certifications_dateReceived  \n",
       "0        November 2021         \n",
       "1  May 2022, May 20...         \n",
       "2                  nan         \n",
       "3                  nan         \n",
       "4  May 2022, Januar...         \n",
       "\n",
       "[5 rows x 47 columns]"
      ]
     },
     "execution_count": 88,
     "metadata": {},
     "output_type": "execute_result"
    }
   ],
   "source": [
    "d2.head()"
   ]
  },
  {
   "cell_type": "markdown",
   "metadata": {},
   "source": [
    "### 1-4-3 Punctuations\n",
    "#### 1-4-3-1 Remove Dots"
   ]
  },
  {
   "cell_type": "code",
   "execution_count": 89,
   "metadata": {},
   "outputs": [],
   "source": [
    "def remove_dots(text):\n",
    "    return text.replace('•', '')"
   ]
  },
  {
   "cell_type": "code",
   "execution_count": 90,
   "metadata": {},
   "outputs": [],
   "source": [
    "d2 = d2.astype(str)\n",
    "d2 = d2.applymap(remove_dots)"
   ]
  },
  {
   "cell_type": "markdown",
   "metadata": {},
   "source": [
    "Now, most of the columns contain lists instead of strings, we can directly work with them."
   ]
  },
  {
   "cell_type": "markdown",
   "metadata": {},
   "source": [
    "#### 1-4-3-2 Remove Leading Comma"
   ]
  },
  {
   "cell_type": "code",
   "execution_count": 91,
   "metadata": {},
   "outputs": [],
   "source": [
    "# define a function to remove leading commas from strings\n",
    "def remove_leading_comma(x):\n",
    "    if isinstance(x, str) and x.startswith(','):\n",
    "        return x[1:]\n",
    "    else:\n",
    "        return x"
   ]
  },
  {
   "cell_type": "code",
   "execution_count": 92,
   "metadata": {},
   "outputs": [],
   "source": [
    "d2 = d2.applymap(remove_leading_comma)"
   ]
  },
  {
   "cell_type": "markdown",
   "metadata": {},
   "source": [
    "### 1-4-3-3 Counting numbers of sections\n",
    "Count numbers of sections in awards, skills, projects,educations, volunteer experience, experiences, references, publications and certifications"
   ]
  },
  {
   "cell_type": "code",
   "execution_count": 93,
   "metadata": {},
   "outputs": [],
   "source": [
    "columns_to_count=['awards_name','skills','project_title','education_school','volunteer_endDate',\n",
    "                  'volunteer_title','experience_title','references_name','publications_name',\n",
    "                  'certifications_name']"
   ]
  },
  {
   "cell_type": "code",
   "execution_count": 94,
   "metadata": {},
   "outputs": [],
   "source": [
    "# Loop through the columns and count the double quotes\n",
    "for col in columns_to_count:\n",
    "    # Create a new column to store the count of double quotes\n",
    "    new_col = col + '_count'\n",
    "    # Count the commas in the original column and store the counts in the new column\n",
    "    d2[new_col] = d2[col].apply(lambda x: str(x).count(',') if str(x).count(',') > 1 else 0)\n",
    "    # Count the double quotes in the original column and store the counts in the new column\n",
    "    d2[new_col] = d2[col].apply(lambda x: str(x).count(','))\n",
    "\n",
    "    #d2.to_csv('resume_with_job_description_stage4.csv', index=False)"
   ]
  },
  {
   "cell_type": "markdown",
   "metadata": {},
   "source": [
    "# 2. EDA & Data Mining\n",
    "- Due to data confidentiality concerns and the main focus of this project being on the exploration of JSON file flattening, data preprocessing and cleaning, only a portion of the code and results from Exploratory Data Analysis (EDA) and data mining are presented. \n",
    "- The EDA section includes the distribution of user age, top 10 target industries, top 10 user skills and so on. \n",
    "- The data mining section includes topic modeling with LDA, industry Classification using a Rule-based Approach, and resume quality assessment using NLP.\n",
    "- Just list a few of the rest sections below for reference."
   ]
  },
  {
   "cell_type": "markdown",
   "metadata": {},
   "source": [
    "###  Topic Modeling with Latent Dirichlet Allocation (LDA) on 'Keywords' Column"
   ]
  },
  {
   "cell_type": "code",
   "execution_count": 95,
   "metadata": {},
   "outputs": [
    {
     "name": "stdout",
     "output_type": "stream",
     "text": [
      "Topic 1: financial, management, accounting, reports, analysis\n",
      "Topic 2: design, user, research, data, and\n",
      "Topic 3: customer, service, experience, support, product\n",
      "Topic 4: skills, communication, detail, to, office\n",
      "Topic 5: management, development, research, program, community\n",
      "Topic 6: safety, quality, equipment, inventory, clinical\n",
      "Topic 7: training, management, hr, development, learning\n",
      "Topic 8: data, analysis, product, business, analytics\n",
      "Topic 9: marketing, media, social, content, digital\n",
      "Topic 10: and, security, risk, information, of\n",
      "Topic 11: software, technical, support, skills, development\n",
      "Topic 12: test, testing, agile, software, development\n",
      "Topic 13: design, creative, adobe, video, digital\n",
      "Topic 14: the, and, experience, other, ability\n",
      "Topic 15: job, system, tracking, applicant, description\n",
      "Topic 16: project, management, business, communication, planning\n",
      "Topic 17: skills, environment, health, communication, help\n",
      "Topic 18: sales, customer, business, client, relationships\n",
      "Topic 19: reporting, design, programming, systems, reliability\n",
      "Topic 20: security, systems, network, management, system\n",
      "15    1262\n",
      "3     1142\n",
      "7     1007\n",
      "8      854\n",
      "0      826\n",
      "17     825\n",
      "2      753\n",
      "4      667\n",
      "10     610\n",
      "12     582\n",
      "14     495\n",
      "5      487\n",
      "11     435\n",
      "6      404\n",
      "19     401\n",
      "9      395\n",
      "1      252\n",
      "13     235\n",
      "16     175\n",
      "18     169\n",
      "Name: topic, dtype: int64\n"
     ]
    }
   ],
   "source": [
    "X = d2['keywords'].fillna('')\n",
    "# Feature extraction using CountVectorizer\n",
    "vectorizer = CountVectorizer()\n",
    "X_vectorized = vectorizer.fit_transform(X)\n",
    "\n",
    "# Apply Latent Dirichlet Allocation (LDA) for topic modeling\n",
    "num_topics = 20  # Specify the number of topics you want to extract\n",
    "lda = LatentDirichletAllocation(n_components=num_topics, random_state=42)\n",
    "lda.fit(X_vectorized)\n",
    "\n",
    "# Get the top keywords for each topic\n",
    "feature_names = vectorizer.get_feature_names_out()\n",
    "for topic_idx, topic in enumerate(lda.components_):\n",
    "    top_keywords = [feature_names[i] for i in topic.argsort()[:-5 - 1:-1]]\n",
    "    print(f\"Topic {topic_idx + 1}: {', '.join(top_keywords)}\")\n",
    "\n",
    "# Assign topics to the documents\n",
    "topic_assignments = lda.transform(X_vectorized)\n",
    "d2['topic'] = topic_assignments.argmax(axis=1)\n",
    "\n",
    "# Analyze the assigned topics\n",
    "topic_counts = d2['topic'].value_counts()\n",
    "print(topic_counts)\n"
   ]
  },
  {
   "cell_type": "markdown",
   "metadata": {},
   "source": [
    "Top three topics:\n",
    "\n",
    "1.Topic 15: job, system, tracking, applicant, description\n",
    "\n",
    "2.Topic 3: customer, service, experience, support, product\n",
    "\n",
    "3.Topic 7: training, management, hr, development, learning\n"
   ]
  },
  {
   "cell_type": "markdown",
   "metadata": {},
   "source": [
    "### Industry Classification using Rule-based Approach with 'keywords' column"
   ]
  },
  {
   "cell_type": "code",
   "execution_count": 96,
   "metadata": {},
   "outputs": [
    {
     "name": "stdout",
     "output_type": "stream",
     "text": [
      "Retail            2983\n",
      "Consulting        1909\n",
      "Marketing         1167\n",
      "Technology         997\n",
      "Finance            977\n",
      "Healthcare         505\n",
      "Manufacturing      489\n",
      "Education          380\n",
      "Transportation     359\n",
      "Hospitality         87\n",
      "Name: assigned_industry, dtype: int64\n"
     ]
    }
   ],
   "source": [
    "def prioritize_industries(assigned_industries):\n",
    "    # Calculate the number of occurrences of industry words in the keywords for each industry\n",
    "    industries_scores = {industry: sum(keyword in industry_patterns[industry] for keyword in keywords.lower().split())\n",
    "                         for industry in assigned_industries}\n",
    "\n",
    "    # Sort the industries based on their scores (number of occurrences) in descending order\n",
    "    sorted_industries = sorted(industries_scores.items(), key=lambda x: x[1], reverse=True)\n",
    "\n",
    "    # Return the industry with the highest score (most occurrences) as the final assigned industry\n",
    "    return sorted_industries[0][0] if sorted_industries else None\n",
    "\n",
    "\n",
    "# Define the rule-based patterns and their corresponding industries (10 sample industries)\n",
    "industry_patterns = {\n",
    "    'Healthcare': ['hospital', 'patient', 'medical', 'nurse', 'doctor'],\n",
    "    'Technology': ['software', 'technology', 'IT', 'developer', 'programming'],\n",
    "    'Finance': ['finance', 'banking', 'investment', 'accounting', 'financial'],\n",
    "    'Education': ['education', 'school', 'teacher', 'learning', 'student'],\n",
    "    'Retail': ['retail', 'store', 'sales', 'merchandise', 'customer'],\n",
    "    'Hospitality': ['hospitality', 'hotel', 'restaurant', 'catering', 'guest'],\n",
    "    'Marketing': ['marketing', 'advertising', 'branding', 'campaign', 'digital'],\n",
    "    'Consulting': ['consulting', 'strategy', 'management', 'advisor', 'solution'],\n",
    "    'Manufacturing': ['manufacturing', 'production', 'factory', 'supply', 'equipment'],\n",
    "    'Transportation': ['transportation', 'logistics', 'shipping', 'fleet', 'delivery']\n",
    "    # Add more industry patterns as needed\n",
    "}\n",
    "\n",
    "# Create a new column to store the assigned industry\n",
    "d2['assigned_industry'] = ''\n",
    "\n",
    "# Iterate through each row and assign the industry based on the keyword patterns\n",
    "for index, row in d2.iterrows():\n",
    "    keywords = row['keywords']\n",
    "    assigned_industries = set()\n",
    "\n",
    "    # Check for null values\n",
    "    if pd.notnull(keywords):\n",
    "        keywords = keywords.lower()\n",
    "\n",
    "        # Check for pattern matches\n",
    "        for industry, patterns in industry_patterns.items():\n",
    "            if any(pattern in keywords for pattern in patterns):\n",
    "                assigned_industries.add(industry)\n",
    "\n",
    "    # Determine the final assigned industry based on priority or additional criteria\n",
    "    if assigned_industries:\n",
    "        # Use a prioritization mechanism or additional analysis to determine the final assigned industry\n",
    "        final_industry = prioritize_industries(assigned_industries)  \n",
    "        d2.at[index, 'assigned_industry'] = final_industry\n",
    "    else:\n",
    "        d2.at[index, 'assigned_industry'] = None  # No matching industry\n",
    "\n",
    "# Display the assigned industries\n",
    "print(d2['assigned_industry'].value_counts())"
   ]
  },
  {
   "cell_type": "code",
   "execution_count": 97,
   "metadata": {},
   "outputs": [
    {
     "data": {
      "image/png": "[encoded data removed]",
      "text/plain": [
       "<Figure size 1000x600 with 1 Axes>"
      ]
     },
     "metadata": {},
     "output_type": "display_data"
    }
   ],
   "source": [
    "# Visualize the top 10 industries\n",
    "industry_counts = d2['assigned_industry'].value_counts()\n",
    "industry_percentages = (industry_counts / len(d2)) * 100\n",
    "\n",
    "# Plotting the bar chart\n",
    "plt.figure(figsize=(10, 6))\n",
    "bars = industry_counts.plot(kind='bar', color=['orange' if i < 3 else 'steelblue' for i in range(len(industry_counts))])\n",
    "plt.title(\"Top 10 Industries\")\n",
    "plt.xlabel(\"Industry\")\n",
    "plt.ylabel(\"Count\")\n",
    "plt.xticks(rotation=45)\n",
    "\n",
    "# Adding percentages at the top of each bar\n",
    "for i, v in enumerate(industry_counts):\n",
    "    percentage = industry_percentages[i]\n",
    "    plt.text(i, v, f\"{percentage:.2f}%\", ha='center', va='bottom')\n",
    "\n",
    "plt.tight_layout()\n",
    "plt.show()"
   ]
  },
  {
   "cell_type": "code",
   "execution_count": 98,
   "metadata": {},
   "outputs": [
    {
     "name": "stdout",
     "output_type": "stream",
     "text": [
      "Excel - 1871\n",
      "Python - 1668\n",
      "SQL - 1170\n",
      "JavaScript - 1097\n",
      "HTML - 1022\n",
      "Word - 940\n",
      "PowerPoint - 885\n",
      "CSS - 824\n",
      "Tableau - 783\n",
      "Communication - 765\n",
      "Microsoft Office - 686\n",
      "Project Management - 673\n",
      "Microsoft Office Suite - 639\n",
      "Git - 629\n",
      "Trello - 587\n"
     ]
    }
   ],
   "source": [
    "skills = d2['skills']\n",
    "skills = skills.astype(str)\n",
    "skills = skills.dropna().str.split(', ')\n",
    "# Flatten the list of skills and remove empty or whitespace-only skills\n",
    "all_skills = [skill.strip() for sublist in skills for skill in sublist if skill.strip() != '']  # and revove the empty strings\n",
    "# Calculate skill frequencies\n",
    "skill_frequencies = Counter(all_skills)\n",
    "\n",
    "# Exclude missing values from the skill frequencies\n",
    "skill_frequencies = {skill: frequency for skill, frequency in skill_frequencies.items() if skill != 'nan'}\n",
    "\n",
    "# Sort the skill frequencies in descending order\n",
    "sorted_skills = sorted(skill_frequencies.items(), key=lambda x: x[1], reverse=True)\n",
    "\n",
    "# Select the top N skills\n",
    "top_skills = sorted_skills[:15]  # Change the number as per your requirement\n",
    "\n",
    "# Print the top skills and their frequencies\n",
    "for skill, frequency in top_skills:\n",
    "    print(skill, \"-\", frequency)"
   ]
  },
  {
   "cell_type": "markdown",
   "metadata": {},
   "source": [
    "###  Determine trends in users' skills"
   ]
  },
  {
   "cell_type": "code",
   "execution_count": 100,
   "metadata": {},
   "outputs": [
    {
     "data": {
      "image/png": "[encoded data removed]",
      "text/plain": [
       "<Figure size 640x480 with 1 Axes>"
      ]
     },
     "metadata": {},
     "output_type": "display_data"
    }
   ],
   "source": [
    "# Extract the skills and frequencies, excluding empty skills\n",
    "skills = [skill for skill, _ in top_skills]\n",
    "frequencies = [frequency for skill, frequency in top_skills]\n",
    "\n",
    "# Reverse the lists to plot in descending order\n",
    "skills.reverse()\n",
    "frequencies.reverse()\n",
    "\n",
    "plt.barh(skills, frequencies,color='salmon')\n",
    "plt.xlabel('Frequency')\n",
    "plt.ylabel('Skills')\n",
    "plt.title('Top Skills Frequency')\n",
    "plt.show()"
   ]
  }
 ],
 "metadata": {
  "kernelspec": {
   "display_name": "Python 3",
   "language": "python",
   "name": "python3"
  },
  "language_info": {
   "codemirror_mode": {
    "name": "ipython",
    "version": 3
   },
   "file_extension": ".py",
   "mimetype": "text/x-python",
   "name": "python",
   "nbconvert_exporter": "python",
   "pygments_lexer": "ipython3",
   "version": "3.10.8"
  },
  "orig_nbformat": 4
 },
 "nbformat": 4,
 "nbformat_minor": 2
}
